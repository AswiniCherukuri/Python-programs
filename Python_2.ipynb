{
  "nbformat": 4,
  "nbformat_minor": 0,
  "metadata": {
    "colab": {
      "name": "Python assignment 2.ipynb",
      "provenance": [],
      "collapsed_sections": [],
      "authorship_tag": "ABX9TyPV70LPKGdjsnTHZd2+qSvF",
      "include_colab_link": true
    },
    "kernelspec": {
      "name": "python3",
      "display_name": "Python 3"
    }
  },
  "cells": [
    {
      "cell_type": "markdown",
      "metadata": {
        "id": "view-in-github",
        "colab_type": "text"
      },
      "source": [
        "<a href=\"https://colab.research.google.com/github/AswiniCherukuri/Python-programs/blob/master/Python_2.ipynb\" target=\"_parent\"><img src=\"https://colab.research.google.com/assets/colab-badge.svg\" alt=\"Open In Colab\"/></a>"
      ]
    },
    {
      "cell_type": "markdown",
      "metadata": {
        "id": "8EqSAbGhwTkk",
        "colab_type": "text"
      },
      "source": [
        "1. Create the below pattern using nested for loop in Python.\n"
      ]
    },
    {
      "cell_type": "code",
      "metadata": {
        "id": "LlIWsrdYx8M1",
        "colab_type": "code",
        "colab": {
          "base_uri": "https://localhost:8080/",
          "height": 170
        },
        "outputId": "9d1457fe-a356-4afb-be03-2f20e543792e"
      },
      "source": [
        "for i in range(1,6):\n",
        "  print('*'*i)\n",
        "  if(i==5):\n",
        "    for i in range(4,0,-1):\n",
        "          print('*'*i)"
      ],
      "execution_count": 11,
      "outputs": [
        {
          "output_type": "stream",
          "text": [
            "*\n",
            "**\n",
            "***\n",
            "****\n",
            "*****\n",
            "****\n",
            "***\n",
            "**\n",
            "*\n"
          ],
          "name": "stdout"
        }
      ]
    },
    {
      "cell_type": "code",
      "metadata": {
        "id": "vBfY2wqEwQXc",
        "colab_type": "code",
        "colab": {
          "base_uri": "https://localhost:8080/",
          "height": 170
        },
        "outputId": "e29bddc2-36dd-4601-ae87-6d647ba8acae"
      },
      "source": [
        "#Another method\n",
        "for i in range(1,6):\n",
        "  print('*'*i)\n",
        "for i in range(4,0,-1):\n",
        "  print('*'*i)"
      ],
      "execution_count": 13,
      "outputs": [
        {
          "output_type": "stream",
          "text": [
            "*\n",
            "**\n",
            "***\n",
            "****\n",
            "*****\n",
            "****\n",
            "***\n",
            "**\n",
            "*\n"
          ],
          "name": "stdout"
        }
      ]
    },
    {
      "cell_type": "markdown",
      "metadata": {
        "id": "-P5RpjSrxLZo",
        "colab_type": "text"
      },
      "source": [
        "2. Write a Python program to reverse a word after accepting the input from the user."
      ]
    },
    {
      "cell_type": "code",
      "metadata": {
        "id": "zDaGbZGYxK6P",
        "colab_type": "code",
        "colab": {
          "base_uri": "https://localhost:8080/",
          "height": 51
        },
        "outputId": "0ba8fcb1-ad03-41b2-ae7a-2b2dbd316b21"
      },
      "source": [
        "w = str(input(\"Enter word: \"))\n",
        "print(w[::-1])"
      ],
      "execution_count": 6,
      "outputs": [
        {
          "output_type": "stream",
          "text": [
            "Enter word: iNeuron\n",
            "norueNi\n"
          ],
          "name": "stdout"
        }
      ]
    }
  ]
}